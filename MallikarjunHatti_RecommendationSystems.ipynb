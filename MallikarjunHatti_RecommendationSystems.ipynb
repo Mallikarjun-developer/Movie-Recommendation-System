{
 "cells": [
  {
   "cell_type": "code",
   "execution_count": 37,
   "metadata": {
    "execution": {
     "iopub.execute_input": "2023-03-20T11:15:27.513261Z",
     "iopub.status.busy": "2023-03-20T11:15:27.512822Z",
     "iopub.status.idle": "2023-03-20T11:15:27.520904Z",
     "shell.execute_reply": "2023-03-20T11:15:27.519325Z",
     "shell.execute_reply.started": "2023-03-20T11:15:27.513223Z"
    }
   },
   "outputs": [],
   "source": [
    "import pandas as pd\n",
    "import seaborn as sns\n",
    "import matplotlib.pyplot as plt\n",
    "from surprise import accuracy\n",
    "from surprise.reader import Reader\n",
    "from surprise.dataset import Dataset\n",
    "from surprise.model_selection import GridSearchCV\n",
    "from surprise.model_selection import train_test_split\n",
    "from surprise.prediction_algorithms.knns import KNNBasic\n",
    "from surprise.prediction_algorithms.matrix_factorization import SVD\n",
    "from collections import defaultdict\n",
    "from surprise.model_selection import KFold\n",
    "import warnings\n",
    "warnings.filterwarnings('ignore')"
   ]
  },
  {
   "cell_type": "code",
   "execution_count": 38,
   "metadata": {
    "execution": {
     "iopub.execute_input": "2023-03-20T11:15:29.651822Z",
     "iopub.status.busy": "2023-03-20T11:15:29.651438Z",
     "iopub.status.idle": "2023-03-20T11:15:29.712781Z",
     "shell.execute_reply": "2023-03-20T11:15:29.711580Z",
     "shell.execute_reply.started": "2023-03-20T11:15:29.651789Z"
    }
   },
   "outputs": [],
   "source": [
    "rating=pd.read_csv(\"/kaggle/input/movielens/ratings.csv\")"
   ]
  },
  {
   "cell_type": "code",
   "execution_count": 43,
   "metadata": {
    "execution": {
     "iopub.execute_input": "2023-03-20T11:16:06.453025Z",
     "iopub.status.busy": "2023-03-20T11:16:06.452231Z",
     "iopub.status.idle": "2023-03-20T11:16:06.459738Z",
     "shell.execute_reply": "2023-03-20T11:16:06.458456Z",
     "shell.execute_reply.started": "2023-03-20T11:16:06.452974Z"
    }
   },
   "outputs": [],
   "source": [
    "new=rating.copy()"
   ]
  },
  {
   "cell_type": "code",
   "execution_count": 44,
   "metadata": {
    "execution": {
     "iopub.execute_input": "2023-03-20T11:16:08.594059Z",
     "iopub.status.busy": "2023-03-20T11:16:08.593237Z",
     "iopub.status.idle": "2023-03-20T11:16:08.608930Z",
     "shell.execute_reply": "2023-03-20T11:16:08.607476Z",
     "shell.execute_reply.started": "2023-03-20T11:16:08.593991Z"
    }
   },
   "outputs": [
    {
     "data": {
      "text/html": [
       "<div>\n",
       "<style scoped>\n",
       "    .dataframe tbody tr th:only-of-type {\n",
       "        vertical-align: middle;\n",
       "    }\n",
       "\n",
       "    .dataframe tbody tr th {\n",
       "        vertical-align: top;\n",
       "    }\n",
       "\n",
       "    .dataframe thead th {\n",
       "        text-align: right;\n",
       "    }\n",
       "</style>\n",
       "<table border=\"1\" class=\"dataframe\">\n",
       "  <thead>\n",
       "    <tr style=\"text-align: right;\">\n",
       "      <th></th>\n",
       "      <th>userId</th>\n",
       "      <th>movieId</th>\n",
       "      <th>rating</th>\n",
       "      <th>timestamp</th>\n",
       "    </tr>\n",
       "  </thead>\n",
       "  <tbody>\n",
       "    <tr>\n",
       "      <th>0</th>\n",
       "      <td>1</td>\n",
       "      <td>31</td>\n",
       "      <td>2.5</td>\n",
       "      <td>1260759144</td>\n",
       "    </tr>\n",
       "    <tr>\n",
       "      <th>1</th>\n",
       "      <td>1</td>\n",
       "      <td>1029</td>\n",
       "      <td>3.0</td>\n",
       "      <td>1260759179</td>\n",
       "    </tr>\n",
       "    <tr>\n",
       "      <th>2</th>\n",
       "      <td>1</td>\n",
       "      <td>1061</td>\n",
       "      <td>3.0</td>\n",
       "      <td>1260759182</td>\n",
       "    </tr>\n",
       "    <tr>\n",
       "      <th>3</th>\n",
       "      <td>1</td>\n",
       "      <td>1129</td>\n",
       "      <td>2.0</td>\n",
       "      <td>1260759185</td>\n",
       "    </tr>\n",
       "    <tr>\n",
       "      <th>4</th>\n",
       "      <td>1</td>\n",
       "      <td>1172</td>\n",
       "      <td>4.0</td>\n",
       "      <td>1260759205</td>\n",
       "    </tr>\n",
       "  </tbody>\n",
       "</table>\n",
       "</div>"
      ],
      "text/plain": [
       "   userId  movieId  rating   timestamp\n",
       "0       1       31     2.5  1260759144\n",
       "1       1     1029     3.0  1260759179\n",
       "2       1     1061     3.0  1260759182\n",
       "3       1     1129     2.0  1260759185\n",
       "4       1     1172     4.0  1260759205"
      ]
     },
     "execution_count": 44,
     "metadata": {},
     "output_type": "execute_result"
    }
   ],
   "source": [
    "new.head(5)"
   ]
  },
  {
   "cell_type": "code",
   "execution_count": 5,
   "metadata": {
    "execution": {
     "iopub.execute_input": "2023-03-20T09:24:58.733795Z",
     "iopub.status.busy": "2023-03-20T09:24:58.733364Z",
     "iopub.status.idle": "2023-03-20T09:24:58.745763Z",
     "shell.execute_reply": "2023-03-20T09:24:58.744483Z",
     "shell.execute_reply.started": "2023-03-20T09:24:58.733756Z"
    }
   },
   "outputs": [
    {
     "data": {
      "text/html": [
       "<div>\n",
       "<style scoped>\n",
       "    .dataframe tbody tr th:only-of-type {\n",
       "        vertical-align: middle;\n",
       "    }\n",
       "\n",
       "    .dataframe tbody tr th {\n",
       "        vertical-align: top;\n",
       "    }\n",
       "\n",
       "    .dataframe thead th {\n",
       "        text-align: right;\n",
       "    }\n",
       "</style>\n",
       "<table border=\"1\" class=\"dataframe\">\n",
       "  <thead>\n",
       "    <tr style=\"text-align: right;\">\n",
       "      <th></th>\n",
       "      <th>userId</th>\n",
       "      <th>movieId</th>\n",
       "      <th>rating</th>\n",
       "      <th>timestamp</th>\n",
       "    </tr>\n",
       "  </thead>\n",
       "  <tbody>\n",
       "    <tr>\n",
       "      <th>99999</th>\n",
       "      <td>671</td>\n",
       "      <td>6268</td>\n",
       "      <td>2.5</td>\n",
       "      <td>1065579370</td>\n",
       "    </tr>\n",
       "    <tr>\n",
       "      <th>100000</th>\n",
       "      <td>671</td>\n",
       "      <td>6269</td>\n",
       "      <td>4.0</td>\n",
       "      <td>1065149201</td>\n",
       "    </tr>\n",
       "    <tr>\n",
       "      <th>100001</th>\n",
       "      <td>671</td>\n",
       "      <td>6365</td>\n",
       "      <td>4.0</td>\n",
       "      <td>1070940363</td>\n",
       "    </tr>\n",
       "    <tr>\n",
       "      <th>100002</th>\n",
       "      <td>671</td>\n",
       "      <td>6385</td>\n",
       "      <td>2.5</td>\n",
       "      <td>1070979663</td>\n",
       "    </tr>\n",
       "    <tr>\n",
       "      <th>100003</th>\n",
       "      <td>671</td>\n",
       "      <td>6565</td>\n",
       "      <td>3.5</td>\n",
       "      <td>1074784724</td>\n",
       "    </tr>\n",
       "  </tbody>\n",
       "</table>\n",
       "</div>"
      ],
      "text/plain": [
       "        userId  movieId  rating   timestamp\n",
       "99999      671     6268     2.5  1065579370\n",
       "100000     671     6269     4.0  1065149201\n",
       "100001     671     6365     4.0  1070940363\n",
       "100002     671     6385     2.5  1070979663\n",
       "100003     671     6565     3.5  1074784724"
      ]
     },
     "execution_count": 5,
     "metadata": {},
     "output_type": "execute_result"
    }
   ],
   "source": [
    "new.tail()"
   ]
  },
  {
   "cell_type": "code",
   "execution_count": 6,
   "metadata": {
    "execution": {
     "iopub.execute_input": "2023-03-20T09:25:01.279759Z",
     "iopub.status.busy": "2023-03-20T09:25:01.279317Z",
     "iopub.status.idle": "2023-03-20T09:25:01.286465Z",
     "shell.execute_reply": "2023-03-20T09:25:01.285639Z",
     "shell.execute_reply.started": "2023-03-20T09:25:01.279721Z"
    }
   },
   "outputs": [
    {
     "data": {
      "text/plain": [
       "(100004, 4)"
      ]
     },
     "execution_count": 6,
     "metadata": {},
     "output_type": "execute_result"
    }
   ],
   "source": [
    "new.shape"
   ]
  },
  {
   "cell_type": "code",
   "execution_count": 7,
   "metadata": {
    "execution": {
     "iopub.execute_input": "2023-03-20T09:25:03.293152Z",
     "iopub.status.busy": "2023-03-20T09:25:03.292038Z",
     "iopub.status.idle": "2023-03-20T09:25:03.348514Z",
     "shell.execute_reply": "2023-03-20T09:25:03.347265Z",
     "shell.execute_reply.started": "2023-03-20T09:25:03.292996Z"
    }
   },
   "outputs": [
    {
     "data": {
      "text/html": [
       "<div>\n",
       "<style scoped>\n",
       "    .dataframe tbody tr th:only-of-type {\n",
       "        vertical-align: middle;\n",
       "    }\n",
       "\n",
       "    .dataframe tbody tr th {\n",
       "        vertical-align: top;\n",
       "    }\n",
       "\n",
       "    .dataframe thead th {\n",
       "        text-align: right;\n",
       "    }\n",
       "</style>\n",
       "<table border=\"1\" class=\"dataframe\">\n",
       "  <thead>\n",
       "    <tr style=\"text-align: right;\">\n",
       "      <th></th>\n",
       "      <th>count</th>\n",
       "      <th>mean</th>\n",
       "      <th>std</th>\n",
       "      <th>min</th>\n",
       "      <th>25%</th>\n",
       "      <th>50%</th>\n",
       "      <th>75%</th>\n",
       "      <th>max</th>\n",
       "    </tr>\n",
       "  </thead>\n",
       "  <tbody>\n",
       "    <tr>\n",
       "      <th>userId</th>\n",
       "      <td>100004.0</td>\n",
       "      <td>3.470113e+02</td>\n",
       "      <td>1.951638e+02</td>\n",
       "      <td>1.0</td>\n",
       "      <td>182.0</td>\n",
       "      <td>3.670000e+02</td>\n",
       "      <td>5.200000e+02</td>\n",
       "      <td>6.710000e+02</td>\n",
       "    </tr>\n",
       "    <tr>\n",
       "      <th>movieId</th>\n",
       "      <td>100004.0</td>\n",
       "      <td>1.254866e+04</td>\n",
       "      <td>2.636920e+04</td>\n",
       "      <td>1.0</td>\n",
       "      <td>1028.0</td>\n",
       "      <td>2.406500e+03</td>\n",
       "      <td>5.418000e+03</td>\n",
       "      <td>1.639490e+05</td>\n",
       "    </tr>\n",
       "    <tr>\n",
       "      <th>rating</th>\n",
       "      <td>100004.0</td>\n",
       "      <td>3.543608e+00</td>\n",
       "      <td>1.058064e+00</td>\n",
       "      <td>0.5</td>\n",
       "      <td>3.0</td>\n",
       "      <td>4.000000e+00</td>\n",
       "      <td>4.000000e+00</td>\n",
       "      <td>5.000000e+00</td>\n",
       "    </tr>\n",
       "    <tr>\n",
       "      <th>timestamp</th>\n",
       "      <td>100004.0</td>\n",
       "      <td>1.129639e+09</td>\n",
       "      <td>1.916858e+08</td>\n",
       "      <td>789652009.0</td>\n",
       "      <td>965847824.0</td>\n",
       "      <td>1.110422e+09</td>\n",
       "      <td>1.296192e+09</td>\n",
       "      <td>1.476641e+09</td>\n",
       "    </tr>\n",
       "  </tbody>\n",
       "</table>\n",
       "</div>"
      ],
      "text/plain": [
       "              count          mean           std          min          25%  \\\n",
       "userId     100004.0  3.470113e+02  1.951638e+02          1.0        182.0   \n",
       "movieId    100004.0  1.254866e+04  2.636920e+04          1.0       1028.0   \n",
       "rating     100004.0  3.543608e+00  1.058064e+00          0.5          3.0   \n",
       "timestamp  100004.0  1.129639e+09  1.916858e+08  789652009.0  965847824.0   \n",
       "\n",
       "                    50%           75%           max  \n",
       "userId     3.670000e+02  5.200000e+02  6.710000e+02  \n",
       "movieId    2.406500e+03  5.418000e+03  1.639490e+05  \n",
       "rating     4.000000e+00  4.000000e+00  5.000000e+00  \n",
       "timestamp  1.110422e+09  1.296192e+09  1.476641e+09  "
      ]
     },
     "execution_count": 7,
     "metadata": {},
     "output_type": "execute_result"
    }
   ],
   "source": [
    "new.describe().T"
   ]
  },
  {
   "cell_type": "code",
   "execution_count": 52,
   "metadata": {
    "execution": {
     "iopub.execute_input": "2023-03-20T11:42:10.672863Z",
     "iopub.status.busy": "2023-03-20T11:42:10.672460Z",
     "iopub.status.idle": "2023-03-20T11:42:10.934087Z",
     "shell.execute_reply": "2023-03-20T11:42:10.932885Z",
     "shell.execute_reply.started": "2023-03-20T11:42:10.672829Z"
    }
   },
   "outputs": [
    {
     "name": "stdout",
     "output_type": "stream",
     "text": [
      "0.5     1101\n",
      "1.0     3326\n",
      "1.5     1687\n",
      "2.0     7271\n",
      "2.5     4449\n",
      "3.0    20064\n",
      "3.5    10538\n",
      "4.0    28750\n",
      "4.5     7723\n",
      "5.0    15095\n",
      "Name: rating, dtype: int64\n"
     ]
    },
    {
     "data": {
      "image/png": "[encoded data removed]",
      "text/plain": [
       "<Figure size 640x480 with 1 Axes>"
      ]
     },
     "metadata": {},
     "output_type": "display_data"
    }
   ],
   "source": [
    "rating_count = new['rating'].value_counts().sort_index()\n",
    "print(rating_count)\n",
    "sns.countplot(x=\"rating\" ,data=rating)\n",
    "plt.tick_params(labelsize = 10)\n",
    "plt.title(\"Distribution of Ratings \", fontsize = 8)\n",
    "plt.xlabel(\"Ratings\", fontsize = 8)\n",
    "plt.ylabel(\"Count of user for Ratings\", fontsize = 8)\n",
    "plt.show()"
   ]
  },
  {
   "cell_type": "markdown",
   "metadata": {},
   "source": [
    "1. The structure contains of mainly three things rating,movie and user\n",
    "1. The user with rating 4 has highest count i.e near 28000 and  user with rating 0.5 has least count "
   ]
  },
  {
   "cell_type": "code",
   "execution_count": 13,
   "metadata": {
    "execution": {
     "iopub.execute_input": "2023-03-20T09:51:40.993614Z",
     "iopub.status.busy": "2023-03-20T09:51:40.993028Z",
     "iopub.status.idle": "2023-03-20T09:51:41.006242Z",
     "shell.execute_reply": "2023-03-20T09:51:41.004484Z",
     "shell.execute_reply.started": "2023-03-20T09:51:40.993560Z"
    }
   },
   "outputs": [
    {
     "name": "stdout",
     "output_type": "stream",
     "text": [
      "Number of Unique Users: 671\n",
      "Number of Unique Movies: 9066\n"
     ]
    }
   ],
   "source": [
    "unique_users = new['userId'].nunique()\n",
    "unique_movies = new['movieId'].nunique()\n",
    "print(\"Number of Unique Users:\", unique_users)\n",
    "print(\"Number of Unique Movies:\", unique_movies)"
   ]
  },
  {
   "cell_type": "code",
   "execution_count": 25,
   "metadata": {
    "execution": {
     "iopub.execute_input": "2023-03-20T10:23:42.087801Z",
     "iopub.status.busy": "2023-03-20T10:23:42.087368Z",
     "iopub.status.idle": "2023-03-20T10:23:42.131528Z",
     "shell.execute_reply": "2023-03-20T10:23:42.130667Z",
     "shell.execute_reply.started": "2023-03-20T10:23:42.087765Z"
    }
   },
   "outputs": [
    {
     "data": {
      "text/html": [
       "<div>\n",
       "<style scoped>\n",
       "    .dataframe tbody tr th:only-of-type {\n",
       "        vertical-align: middle;\n",
       "    }\n",
       "\n",
       "    .dataframe tbody tr th {\n",
       "        vertical-align: top;\n",
       "    }\n",
       "\n",
       "    .dataframe thead th {\n",
       "        text-align: right;\n",
       "    }\n",
       "</style>\n",
       "<table border=\"1\" class=\"dataframe\">\n",
       "  <thead>\n",
       "    <tr style=\"text-align: right;\">\n",
       "      <th></th>\n",
       "      <th></th>\n",
       "      <th>rating</th>\n",
       "      <th>timestamp</th>\n",
       "    </tr>\n",
       "    <tr>\n",
       "      <th>userId</th>\n",
       "      <th>movieId</th>\n",
       "      <th></th>\n",
       "      <th></th>\n",
       "    </tr>\n",
       "  </thead>\n",
       "  <tbody>\n",
       "    <tr>\n",
       "      <th rowspan=\"5\" valign=\"top\">1</th>\n",
       "      <th>31</th>\n",
       "      <td>1</td>\n",
       "      <td>1</td>\n",
       "    </tr>\n",
       "    <tr>\n",
       "      <th>1029</th>\n",
       "      <td>1</td>\n",
       "      <td>1</td>\n",
       "    </tr>\n",
       "    <tr>\n",
       "      <th>1061</th>\n",
       "      <td>1</td>\n",
       "      <td>1</td>\n",
       "    </tr>\n",
       "    <tr>\n",
       "      <th>1129</th>\n",
       "      <td>1</td>\n",
       "      <td>1</td>\n",
       "    </tr>\n",
       "    <tr>\n",
       "      <th>1172</th>\n",
       "      <td>1</td>\n",
       "      <td>1</td>\n",
       "    </tr>\n",
       "    <tr>\n",
       "      <th>...</th>\n",
       "      <th>...</th>\n",
       "      <td>...</td>\n",
       "      <td>...</td>\n",
       "    </tr>\n",
       "    <tr>\n",
       "      <th rowspan=\"5\" valign=\"top\">671</th>\n",
       "      <th>6268</th>\n",
       "      <td>1</td>\n",
       "      <td>1</td>\n",
       "    </tr>\n",
       "    <tr>\n",
       "      <th>6269</th>\n",
       "      <td>1</td>\n",
       "      <td>1</td>\n",
       "    </tr>\n",
       "    <tr>\n",
       "      <th>6365</th>\n",
       "      <td>1</td>\n",
       "      <td>1</td>\n",
       "    </tr>\n",
       "    <tr>\n",
       "      <th>6385</th>\n",
       "      <td>1</td>\n",
       "      <td>1</td>\n",
       "    </tr>\n",
       "    <tr>\n",
       "      <th>6565</th>\n",
       "      <td>1</td>\n",
       "      <td>1</td>\n",
       "    </tr>\n",
       "  </tbody>\n",
       "</table>\n",
       "<p>100004 rows × 2 columns</p>\n",
       "</div>"
      ],
      "text/plain": [
       "                rating  timestamp\n",
       "userId movieId                   \n",
       "1      31            1          1\n",
       "       1029          1          1\n",
       "       1061          1          1\n",
       "       1129          1          1\n",
       "       1172          1          1\n",
       "...                ...        ...\n",
       "671    6268          1          1\n",
       "       6269          1          1\n",
       "       6365          1          1\n",
       "       6385          1          1\n",
       "       6565          1          1\n",
       "\n",
       "[100004 rows x 2 columns]"
      ]
     },
     "execution_count": 25,
     "metadata": {},
     "output_type": "execute_result"
    }
   ],
   "source": [
    "new.groupby(['userId', 'movieId']).count()"
   ]
  },
  {
   "cell_type": "code",
   "execution_count": 26,
   "metadata": {
    "execution": {
     "iopub.execute_input": "2023-03-20T10:24:29.752882Z",
     "iopub.status.busy": "2023-03-20T10:24:29.751709Z",
     "iopub.status.idle": "2023-03-20T10:24:29.783578Z",
     "shell.execute_reply": "2023-03-20T10:24:29.782165Z",
     "shell.execute_reply.started": "2023-03-20T10:24:29.752834Z"
    }
   },
   "outputs": [
    {
     "data": {
      "text/plain": [
       "100004"
      ]
     },
     "execution_count": 26,
     "metadata": {},
     "output_type": "execute_result"
    }
   ],
   "source": [
    "new.groupby(['userId', 'movieId']).count()['rating'].sum()"
   ]
  },
  {
   "cell_type": "markdown",
   "metadata": {},
   "source": [
    "Since the sum and no of rows is same so there is no movie in which the same user interacted with it more than once"
   ]
  },
  {
   "cell_type": "code",
   "execution_count": 27,
   "metadata": {
    "execution": {
     "iopub.execute_input": "2023-03-20T10:27:57.560420Z",
     "iopub.status.busy": "2023-03-20T10:27:57.559979Z",
     "iopub.status.idle": "2023-03-20T10:27:57.572803Z",
     "shell.execute_reply": "2023-03-20T10:27:57.571328Z",
     "shell.execute_reply.started": "2023-03-20T10:27:57.560372Z"
    }
   },
   "outputs": [
    {
     "data": {
      "text/plain": [
       "356       341\n",
       "296       324\n",
       "318       311\n",
       "593       304\n",
       "260       291\n",
       "         ... \n",
       "98604       1\n",
       "103659      1\n",
       "104419      1\n",
       "115927      1\n",
       "6425        1\n",
       "Name: movieId, Length: 9066, dtype: int64"
      ]
     },
     "execution_count": 27,
     "metadata": {},
     "output_type": "execute_result"
    }
   ],
   "source": [
    "rating['movieId'].value_counts()"
   ]
  },
  {
   "cell_type": "markdown",
   "metadata": {},
   "source": [
    "Since movieId 356 has more more interactions lets plot against it"
   ]
  },
  {
   "cell_type": "code",
   "execution_count": 28,
   "metadata": {
    "execution": {
     "iopub.execute_input": "2023-03-20T10:29:17.562726Z",
     "iopub.status.busy": "2023-03-20T10:29:17.562317Z",
     "iopub.status.idle": "2023-03-20T10:29:17.848496Z",
     "shell.execute_reply": "2023-03-20T10:29:17.847555Z",
     "shell.execute_reply.started": "2023-03-20T10:29:17.562691Z"
    }
   },
   "outputs": [
    {
     "data": {
      "image/png": "[encoded data removed]",
      "text/plain": [
       "<Figure size 700x700 with 1 Axes>"
      ]
     },
     "metadata": {},
     "output_type": "display_data"
    }
   ],
   "source": [
    "plt.figure(figsize=(7,7))\n",
    "\n",
    "new[new['movieId'] == 356]['rating'].value_counts().plot(kind='bar')\n",
    "\n",
    "plt.xlabel('Rating')\n",
    "\n",
    "plt.ylabel('Count')\n",
    "\n",
    "plt.show()"
   ]
  },
  {
   "cell_type": "markdown",
   "metadata": {},
   "source": [
    "Here we can more users have rated 4 and least no of people voted 1.5"
   ]
  },
  {
   "cell_type": "code",
   "execution_count": 29,
   "metadata": {
    "execution": {
     "iopub.execute_input": "2023-03-20T10:40:24.921859Z",
     "iopub.status.busy": "2023-03-20T10:40:24.921287Z",
     "iopub.status.idle": "2023-03-20T10:40:24.935937Z",
     "shell.execute_reply": "2023-03-20T10:40:24.934726Z",
     "shell.execute_reply.started": "2023-03-20T10:40:24.921794Z"
    }
   },
   "outputs": [
    {
     "data": {
      "text/plain": [
       "547    2391\n",
       "564    1868\n",
       "624    1735\n",
       "15     1700\n",
       "73     1610\n",
       "       ... \n",
       "296      20\n",
       "289      20\n",
       "249      20\n",
       "221      20\n",
       "1        20\n",
       "Name: userId, Length: 671, dtype: int64"
      ]
     },
     "execution_count": 29,
     "metadata": {},
     "output_type": "execute_result"
    }
   ],
   "source": [
    "new['userId'].value_counts()"
   ]
  },
  {
   "cell_type": "markdown",
   "metadata": {},
   "source": [
    "The user with userId 547 interacts the most with any movie in the dataset"
   ]
  },
  {
   "cell_type": "code",
   "execution_count": 46,
   "metadata": {
    "execution": {
     "iopub.execute_input": "2023-03-20T11:18:40.432703Z",
     "iopub.status.busy": "2023-03-20T11:18:40.432271Z",
     "iopub.status.idle": "2023-03-20T11:18:40.448121Z",
     "shell.execute_reply": "2023-03-20T11:18:40.446817Z",
     "shell.execute_reply.started": "2023-03-20T11:18:40.432666Z"
    }
   },
   "outputs": [
    {
     "data": {
      "text/plain": [
       "userId\n",
       "1       20\n",
       "2       76\n",
       "3       51\n",
       "4      204\n",
       "5      100\n",
       "      ... \n",
       "667     68\n",
       "668     20\n",
       "669     37\n",
       "670     31\n",
       "671    115\n",
       "Name: movieId, Length: 671, dtype: int64"
      ]
     },
     "execution_count": 46,
     "metadata": {},
     "output_type": "execute_result"
    }
   ],
   "source": [
    "interactions = rating.groupby('userId').count()['movieId']\n",
    "interactions"
   ]
  },
  {
   "cell_type": "code",
   "execution_count": 51,
   "metadata": {
    "execution": {
     "iopub.execute_input": "2023-03-20T11:35:11.996612Z",
     "iopub.status.busy": "2023-03-20T11:35:11.996170Z",
     "iopub.status.idle": "2023-03-20T11:35:12.395399Z",
     "shell.execute_reply": "2023-03-20T11:35:12.394242Z",
     "shell.execute_reply.started": "2023-03-20T11:35:11.996574Z"
    }
   },
   "outputs": [
    {
     "data": {
      "image/png": "[encoded data removed]",
      "text/plain": [
       "<Figure size 1200x500 with 1 Axes>"
      ]
     },
     "metadata": {},
     "output_type": "display_data"
    }
   ],
   "source": [
    "plt.figure(figsize=(12,5))\n",
    "sns.histplot(interactions)\n",
    "plt.xlabel('Number of movies interacted by Users')\n",
    "plt.show()"
   ]
  },
  {
   "cell_type": "markdown",
   "metadata": {},
   "source": [
    "1. The highest number of movie-user interactions are less than 500 movies,beyond that few movies are present but are widely distributed\n",
    "1. The gragh is heavily left skewed"
   ]
  },
  {
   "cell_type": "markdown",
   "metadata": {},
   "source": [
    "# **Create Rank Based Recommendation System**"
   ]
  },
  {
   "cell_type": "code",
   "execution_count": 54,
   "metadata": {
    "execution": {
     "iopub.execute_input": "2023-03-20T12:02:25.444297Z",
     "iopub.status.busy": "2023-03-20T12:02:25.443865Z",
     "iopub.status.idle": "2023-03-20T12:02:25.467108Z",
     "shell.execute_reply": "2023-03-20T12:02:25.465749Z",
     "shell.execute_reply.started": "2023-03-20T12:02:25.444261Z"
    }
   },
   "outputs": [],
   "source": [
    "average_rating = rating.groupby('movieId').mean()['rating']\n",
    "count_rating = rating.groupby('movieId').count()['rating']\n",
    "final_rating = pd.DataFrame({'avg_rating':average_rating, 'rating_count':count_rating})"
   ]
  },
  {
   "cell_type": "code",
   "execution_count": 55,
   "metadata": {
    "execution": {
     "iopub.execute_input": "2023-03-20T12:02:59.767199Z",
     "iopub.status.busy": "2023-03-20T12:02:59.766769Z",
     "iopub.status.idle": "2023-03-20T12:02:59.778953Z",
     "shell.execute_reply": "2023-03-20T12:02:59.777739Z",
     "shell.execute_reply.started": "2023-03-20T12:02:59.767152Z"
    }
   },
   "outputs": [
    {
     "data": {
      "text/html": [
       "<div>\n",
       "<style scoped>\n",
       "    .dataframe tbody tr th:only-of-type {\n",
       "        vertical-align: middle;\n",
       "    }\n",
       "\n",
       "    .dataframe tbody tr th {\n",
       "        vertical-align: top;\n",
       "    }\n",
       "\n",
       "    .dataframe thead th {\n",
       "        text-align: right;\n",
       "    }\n",
       "</style>\n",
       "<table border=\"1\" class=\"dataframe\">\n",
       "  <thead>\n",
       "    <tr style=\"text-align: right;\">\n",
       "      <th></th>\n",
       "      <th>avg_rating</th>\n",
       "      <th>rating_count</th>\n",
       "    </tr>\n",
       "    <tr>\n",
       "      <th>movieId</th>\n",
       "      <th></th>\n",
       "      <th></th>\n",
       "    </tr>\n",
       "  </thead>\n",
       "  <tbody>\n",
       "    <tr>\n",
       "      <th>1</th>\n",
       "      <td>3.872470</td>\n",
       "      <td>247</td>\n",
       "    </tr>\n",
       "    <tr>\n",
       "      <th>2</th>\n",
       "      <td>3.401869</td>\n",
       "      <td>107</td>\n",
       "    </tr>\n",
       "    <tr>\n",
       "      <th>3</th>\n",
       "      <td>3.161017</td>\n",
       "      <td>59</td>\n",
       "    </tr>\n",
       "    <tr>\n",
       "      <th>4</th>\n",
       "      <td>2.384615</td>\n",
       "      <td>13</td>\n",
       "    </tr>\n",
       "    <tr>\n",
       "      <th>5</th>\n",
       "      <td>3.267857</td>\n",
       "      <td>56</td>\n",
       "    </tr>\n",
       "  </tbody>\n",
       "</table>\n",
       "</div>"
      ],
      "text/plain": [
       "         avg_rating  rating_count\n",
       "movieId                          \n",
       "1          3.872470           247\n",
       "2          3.401869           107\n",
       "3          3.161017            59\n",
       "4          2.384615            13\n",
       "5          3.267857            56"
      ]
     },
     "execution_count": 55,
     "metadata": {},
     "output_type": "execute_result"
    }
   ],
   "source": [
    "final_rating.head()"
   ]
  },
  {
   "cell_type": "code",
   "execution_count": 58,
   "metadata": {
    "execution": {
     "iopub.execute_input": "2023-03-20T12:06:57.020355Z",
     "iopub.status.busy": "2023-03-20T12:06:57.019937Z",
     "iopub.status.idle": "2023-03-20T12:06:57.027809Z",
     "shell.execute_reply": "2023-03-20T12:06:57.026077Z",
     "shell.execute_reply.started": "2023-03-20T12:06:57.020321Z"
    }
   },
   "outputs": [],
   "source": [
    "def top_nmovies(new, n, min_interaction=100):\n",
    "    recom = new[new['rating_count'] > min_interaction]\n",
    "    recom = recom.sort_values(by='avg_rating', ascending=False)\n",
    "    return recom.index[:n]"
   ]
  },
  {
   "cell_type": "markdown",
   "metadata": {},
   "source": [
    "**Recommending top 6 movies with 80 minimum interactions based on popularity**"
   ]
  },
  {
   "cell_type": "code",
   "execution_count": 59,
   "metadata": {
    "execution": {
     "iopub.execute_input": "2023-03-20T12:07:00.789068Z",
     "iopub.status.busy": "2023-03-20T12:07:00.788682Z",
     "iopub.status.idle": "2023-03-20T12:07:00.797590Z",
     "shell.execute_reply": "2023-03-20T12:07:00.796653Z",
     "shell.execute_reply.started": "2023-03-20T12:07:00.789035Z"
    }
   },
   "outputs": [
    {
     "data": {
      "text/plain": [
       "[858, 318, 1221, 50, 904, 527]"
      ]
     },
     "execution_count": 59,
     "metadata": {},
     "output_type": "execute_result"
    }
   ],
   "source": [
    "list(top_nmovies(final_rating ,6 ,80))"
   ]
  },
  {
   "cell_type": "markdown",
   "metadata": {},
   "source": [
    "**Recommending top 8movies with 150 interactions based on popularity**"
   ]
  },
  {
   "cell_type": "code",
   "execution_count": 60,
   "metadata": {
    "execution": {
     "iopub.execute_input": "2023-03-20T12:07:54.267989Z",
     "iopub.status.busy": "2023-03-20T12:07:54.267575Z",
     "iopub.status.idle": "2023-03-20T12:07:54.278150Z",
     "shell.execute_reply": "2023-03-20T12:07:54.277029Z",
     "shell.execute_reply.started": "2023-03-20T12:07:54.267954Z"
    }
   },
   "outputs": [
    {
     "data": {
      "text/plain": [
       "[858, 318, 50, 527, 608, 296, 2858, 1196]"
      ]
     },
     "execution_count": 60,
     "metadata": {},
     "output_type": "execute_result"
    }
   ],
   "source": [
    "list(top_nmovies(final_rating ,8,150))"
   ]
  },
  {
   "cell_type": "markdown",
   "metadata": {},
   "source": [
    "#  Build a User based Collaborative Filtering Recommendation System"
   ]
  },
  {
   "cell_type": "code",
   "execution_count": 62,
   "metadata": {
    "execution": {
     "iopub.execute_input": "2023-03-20T12:39:45.428337Z",
     "iopub.status.busy": "2023-03-20T12:39:45.427170Z",
     "iopub.status.idle": "2023-03-20T12:39:45.739515Z",
     "shell.execute_reply": "2023-03-20T12:39:45.738603Z",
     "shell.execute_reply.started": "2023-03-20T12:39:45.428291Z"
    }
   },
   "outputs": [],
   "source": [
    "reader = Reader(rating_scale=(0, 5))\n",
    "data = Dataset.load_from_df(rating[['userId', 'movieId', 'rating']], reader)\n",
    "trainset, testset = train_test_split(data, test_size=0.2, random_state=42)"
   ]
  },
  {
   "cell_type": "code",
   "execution_count": 70,
   "metadata": {
    "execution": {
     "iopub.execute_input": "2023-03-20T12:50:14.068000Z",
     "iopub.status.busy": "2023-03-20T12:50:14.067612Z",
     "iopub.status.idle": "2023-03-20T12:50:16.103766Z",
     "shell.execute_reply": "2023-03-20T12:50:16.102401Z",
     "shell.execute_reply.started": "2023-03-20T12:50:14.067967Z"
    }
   },
   "outputs": [
    {
     "name": "stdout",
     "output_type": "stream",
     "text": [
      "RMSE: 0.9925\n"
     ]
    },
    {
     "data": {
      "text/plain": [
       "0.9924509041520163"
      ]
     },
     "execution_count": 70,
     "metadata": {},
     "output_type": "execute_result"
    }
   ],
   "source": [
    "from surprise import KNNBasic\n",
    "alg = KNNBasic()\n",
    "sim_options = {'name': 'cosine',\n",
    "               'user_based': True}\n",
    "\n",
    "alg_knnuser = KNNBasic(sim_options=sim_options,verbose=False)\n",
    "alg_knnuser.fit(trainset)\n",
    "predictions = alg_knnuser.test(testset)\n",
    "accuracy.rmse(predictions)"
   ]
  },
  {
   "cell_type": "markdown",
   "metadata": {},
   "source": [
    "**predict rating for an user with userId=4 and for movieId=10**"
   ]
  },
  {
   "cell_type": "code",
   "execution_count": 140,
   "metadata": {
    "execution": {
     "iopub.execute_input": "2023-03-20T14:42:19.554333Z",
     "iopub.status.busy": "2023-03-20T14:42:19.553821Z",
     "iopub.status.idle": "2023-03-20T14:42:19.564754Z",
     "shell.execute_reply": "2023-03-20T14:42:19.563176Z",
     "shell.execute_reply.started": "2023-03-20T14:42:19.554289Z"
    }
   },
   "outputs": [
    {
     "name": "stdout",
     "output_type": "stream",
     "text": [
      "user: 4          item: 10         r_ui = 4.00   est = 3.54   {'actual_k': 40, 'was_impossible': False}\n"
     ]
    },
    {
     "data": {
      "text/plain": [
       "Prediction(uid=4, iid=10, r_ui=4, est=3.538364234003973, details={'actual_k': 40, 'was_impossible': False})"
      ]
     },
     "execution_count": 140,
     "metadata": {},
     "output_type": "execute_result"
    }
   ],
   "source": [
    "alg_knnuser.predict(4, 10,r_ui=4, verbose=True)\n"
   ]
  },
  {
   "cell_type": "markdown",
   "metadata": {},
   "source": [
    "Predicted score is 3.54 while true value is 4"
   ]
  },
  {
   "cell_type": "markdown",
   "metadata": {},
   "source": [
    "**predict rating for an user with userId=4 and for movieId=3**"
   ]
  },
  {
   "cell_type": "code",
   "execution_count": 72,
   "metadata": {
    "execution": {
     "iopub.execute_input": "2023-03-20T12:51:41.666306Z",
     "iopub.status.busy": "2023-03-20T12:51:41.665146Z",
     "iopub.status.idle": "2023-03-20T12:51:41.674268Z",
     "shell.execute_reply": "2023-03-20T12:51:41.673063Z",
     "shell.execute_reply.started": "2023-03-20T12:51:41.666261Z"
    }
   },
   "outputs": [
    {
     "name": "stdout",
     "output_type": "stream",
     "text": [
      "user: 4          item: 3          r_ui = None   est = 3.20   {'actual_k': 40, 'was_impossible': False}\n"
     ]
    },
    {
     "data": {
      "text/plain": [
       "Prediction(uid=4, iid=3, r_ui=None, est=3.202703552548654, details={'actual_k': 40, 'was_impossible': False})"
      ]
     },
     "execution_count": 72,
     "metadata": {},
     "output_type": "execute_result"
    }
   ],
   "source": [
    "alg_knnuser.predict(4, 3,verbose=True)"
   ]
  },
  {
   "cell_type": "markdown",
   "metadata": {},
   "source": [
    "Predicted score is 3.2 while true value is unknown"
   ]
  },
  {
   "cell_type": "code",
   "execution_count": 75,
   "metadata": {
    "execution": {
     "iopub.execute_input": "2023-03-20T12:57:17.389770Z",
     "iopub.status.busy": "2023-03-20T12:57:17.389335Z",
     "iopub.status.idle": "2023-03-20T12:59:55.204909Z",
     "shell.execute_reply": "2023-03-20T12:59:55.203900Z",
     "shell.execute_reply.started": "2023-03-20T12:57:17.389731Z"
    }
   },
   "outputs": [
    {
     "name": "stdout",
     "output_type": "stream",
     "text": [
      "0.9652238701204131\n",
      "{'k': 20, 'min_k': 3, 'sim_options': {'name': 'msd', 'user_based': True}}\n"
     ]
    }
   ],
   "source": [
    "param_grid = {'k': [10, 20, 30], 'min_k': [3, 6, 9],'sim_options': {'name': ['msd', 'cosine','pearson'],'user_based': [True]}}\n",
    "grid_obj = GridSearchCV(KNNBasic, param_grid, measures=['rmse', 'mae'], cv=3, n_jobs=-1)\n",
    "grid_obj.fit(data)\n",
    "print(grid_obj.best_score['rmse'])\n",
    "print(grid_obj.best_params['rmse'])"
   ]
  },
  {
   "cell_type": "code",
   "execution_count": 78,
   "metadata": {
    "execution": {
     "iopub.execute_input": "2023-03-20T13:06:52.219045Z",
     "iopub.status.busy": "2023-03-20T13:06:52.218660Z",
     "iopub.status.idle": "2023-03-20T13:06:53.800893Z",
     "shell.execute_reply": "2023-03-20T13:06:53.799612Z",
     "shell.execute_reply.started": "2023-03-20T13:06:52.219011Z"
    }
   },
   "outputs": [
    {
     "name": "stdout",
     "output_type": "stream",
     "text": [
      "RMSE: 0.9571\n"
     ]
    },
    {
     "data": {
      "text/plain": [
       "0.9571445417153293"
      ]
     },
     "execution_count": 78,
     "metadata": {},
     "output_type": "execute_result"
    }
   ],
   "source": [
    "similar = {'name': 'msd','user_based': True}\n",
    "similarity_based_user = KNNBasic(sim_options=sim_options, k=20, min_k=3,verbose=False)\n",
    "similarity_based_user.fit(trainset)\n",
    "predict = similarity_based_user.test(testset)\n",
    "accuracy.rmse(predict)"
   ]
  },
  {
   "cell_type": "markdown",
   "metadata": {},
   "source": [
    "**predict rating for an user with userId=4 and for movieId=10**"
   ]
  },
  {
   "cell_type": "code",
   "execution_count": 141,
   "metadata": {
    "execution": {
     "iopub.execute_input": "2023-03-20T14:54:43.682445Z",
     "iopub.status.busy": "2023-03-20T14:54:43.681908Z",
     "iopub.status.idle": "2023-03-20T14:54:43.692775Z",
     "shell.execute_reply": "2023-03-20T14:54:43.691270Z",
     "shell.execute_reply.started": "2023-03-20T14:54:43.682405Z"
    }
   },
   "outputs": [
    {
     "name": "stdout",
     "output_type": "stream",
     "text": [
      "user: 4          item: 10         r_ui = 4.00   est = 3.68   {'actual_k': 30, 'was_impossible': False}\n"
     ]
    },
    {
     "data": {
      "text/plain": [
       "Prediction(uid=4, iid=10, r_ui=4, est=3.6795726196901404, details={'actual_k': 30, 'was_impossible': False})"
      ]
     },
     "execution_count": 141,
     "metadata": {},
     "output_type": "execute_result"
    }
   ],
   "source": [
    "similarity_based_user.predict(4,10,r_ui=4,verbose=True)"
   ]
  },
  {
   "cell_type": "markdown",
   "metadata": {},
   "source": [
    "Predicted score is 3.68 while true value is 4 there is improvement"
   ]
  },
  {
   "cell_type": "markdown",
   "metadata": {},
   "source": [
    "**predict rating for an user with userId=4 and for movieId=3**"
   ]
  },
  {
   "cell_type": "code",
   "execution_count": 81,
   "metadata": {
    "execution": {
     "iopub.execute_input": "2023-03-20T13:09:04.408598Z",
     "iopub.status.busy": "2023-03-20T13:09:04.407403Z",
     "iopub.status.idle": "2023-03-20T13:09:04.417077Z",
     "shell.execute_reply": "2023-03-20T13:09:04.415702Z",
     "shell.execute_reply.started": "2023-03-20T13:09:04.408555Z"
    }
   },
   "outputs": [
    {
     "name": "stdout",
     "output_type": "stream",
     "text": [
      "user: 4          item: 3          r_ui = None   est = 3.72   {'actual_k': 20, 'was_impossible': False}\n"
     ]
    },
    {
     "data": {
      "text/plain": [
       "Prediction(uid=4, iid=3, r_ui=None, est=3.7228745701935386, details={'actual_k': 20, 'was_impossible': False})"
      ]
     },
     "execution_count": 81,
     "metadata": {},
     "output_type": "execute_result"
    }
   ],
   "source": [
    "similarity_based_user.predict(4,3,verbose=True)"
   ]
  },
  {
   "cell_type": "markdown",
   "metadata": {},
   "source": [
    "Predicted score is 3.72 while true value is unknown there is improvement"
   ]
  },
  {
   "cell_type": "markdown",
   "metadata": {},
   "source": [
    "# Similarity Based Recommendation System"
   ]
  },
  {
   "cell_type": "markdown",
   "metadata": {},
   "source": [
    "Predict the top 5 movies for userId=4 with similarity based recommendation system"
   ]
  },
  {
   "cell_type": "code",
   "execution_count": 89,
   "metadata": {
    "execution": {
     "iopub.execute_input": "2023-03-20T13:15:51.554329Z",
     "iopub.status.busy": "2023-03-20T13:15:51.553882Z",
     "iopub.status.idle": "2023-03-20T13:15:51.561969Z",
     "shell.execute_reply": "2023-03-20T13:15:51.561046Z",
     "shell.execute_reply.started": "2023-03-20T13:15:51.554289Z"
    }
   },
   "outputs": [],
   "source": [
    "def get_recommendations(data, user_id, topn, alg):\n",
    "    recommend = []\n",
    "    user_item_interactions_matrix = data.pivot(index='userId', columns='movieId', values='rating')\n",
    "    non_interacted_movies = user_item_interactions_matrix.loc[user_id][user_item_interactions_matrix.loc[user_id].isnull()].index.tolist()\n",
    "    for item_id in non_interacted_movies:\n",
    "        est = alg.predict(user_id, item_id).est\n",
    "        recommend.append((item_id, est))\n",
    "    recommend.sort(key=lambda x: x[1], reverse=True)\n",
    "    return recommend[:topn]"
   ]
  },
  {
   "cell_type": "code",
   "execution_count": 91,
   "metadata": {
    "execution": {
     "iopub.execute_input": "2023-03-20T13:16:38.873808Z",
     "iopub.status.busy": "2023-03-20T13:16:38.873415Z",
     "iopub.status.idle": "2023-03-20T13:16:39.094590Z",
     "shell.execute_reply": "2023-03-20T13:16:39.093273Z",
     "shell.execute_reply.started": "2023-03-20T13:16:38.873772Z"
    }
   },
   "outputs": [],
   "source": [
    "recommend = get_recommendations(rating, 4, 5, similarity_based_user)"
   ]
  },
  {
   "cell_type": "code",
   "execution_count": 93,
   "metadata": {
    "execution": {
     "iopub.execute_input": "2023-03-20T13:17:30.402277Z",
     "iopub.status.busy": "2023-03-20T13:17:30.401360Z",
     "iopub.status.idle": "2023-03-20T13:17:30.410644Z",
     "shell.execute_reply": "2023-03-20T13:17:30.408832Z",
     "shell.execute_reply.started": "2023-03-20T13:17:30.402232Z"
    }
   },
   "outputs": [
    {
     "data": {
      "text/plain": [
       "[(309, 5),\n",
       " (3038, 5),\n",
       " (6273, 4.928202652354184),\n",
       " (98491, 4.863224466679252),\n",
       " (2721, 4.845513973527148)]"
      ]
     },
     "execution_count": 93,
     "metadata": {},
     "output_type": "execute_result"
    }
   ],
   "source": [
    "recommend"
   ]
  },
  {
   "cell_type": "markdown",
   "metadata": {},
   "source": [
    "# Item based Collaborative Filtering Recommendation System"
   ]
  },
  {
   "cell_type": "code",
   "execution_count": 94,
   "metadata": {
    "execution": {
     "iopub.execute_input": "2023-03-20T13:19:48.716036Z",
     "iopub.status.busy": "2023-03-20T13:19:48.715643Z",
     "iopub.status.idle": "2023-03-20T13:20:12.384661Z",
     "shell.execute_reply": "2023-03-20T13:20:12.383805Z",
     "shell.execute_reply.started": "2023-03-20T13:19:48.716003Z"
    }
   },
   "outputs": [
    {
     "name": "stdout",
     "output_type": "stream",
     "text": [
      "RMSE: 1.0032\n"
     ]
    },
    {
     "data": {
      "text/plain": [
       "1.003221450633729"
      ]
     },
     "execution_count": 94,
     "metadata": {},
     "output_type": "execute_result"
    }
   ],
   "source": [
    "sim = {'name': 'cosine','user_based': False}\n",
    "algoknn_item = KNNBasic(sim_options=sim,verbose=False)\n",
    "algoknn_item.fit(trainset)\n",
    "predictions = algoknn_item.test(testset)\n",
    "accuracy.rmse(predictions)"
   ]
  },
  {
   "cell_type": "markdown",
   "metadata": {},
   "source": [
    "**predict rating for an user with userId=4 and for movieId=10**"
   ]
  },
  {
   "cell_type": "code",
   "execution_count": 142,
   "metadata": {
    "execution": {
     "iopub.execute_input": "2023-03-20T14:56:23.368750Z",
     "iopub.status.busy": "2023-03-20T14:56:23.368236Z",
     "iopub.status.idle": "2023-03-20T14:56:23.378935Z",
     "shell.execute_reply": "2023-03-20T14:56:23.377567Z",
     "shell.execute_reply.started": "2023-03-20T14:56:23.368710Z"
    }
   },
   "outputs": [
    {
     "name": "stdout",
     "output_type": "stream",
     "text": [
      "user: 4          item: 10         r_ui = 4.00   est = 4.25   {'actual_k': 40, 'was_impossible': False}\n"
     ]
    },
    {
     "data": {
      "text/plain": [
       "Prediction(uid=4, iid=10, r_ui=4, est=4.248452088758312, details={'actual_k': 40, 'was_impossible': False})"
      ]
     },
     "execution_count": 142,
     "metadata": {},
     "output_type": "execute_result"
    }
   ],
   "source": [
    "algoknn_item.predict(4,10,r_ui=4,verbose=True)"
   ]
  },
  {
   "cell_type": "markdown",
   "metadata": {},
   "source": [
    "Predicted score is 4.25 while true value is 4"
   ]
  },
  {
   "cell_type": "markdown",
   "metadata": {},
   "source": [
    "**predict rating for an user with userId=4 and for movieId=3**"
   ]
  },
  {
   "cell_type": "code",
   "execution_count": 96,
   "metadata": {
    "execution": {
     "iopub.execute_input": "2023-03-20T13:24:38.268471Z",
     "iopub.status.busy": "2023-03-20T13:24:38.268052Z",
     "iopub.status.idle": "2023-03-20T13:24:38.277075Z",
     "shell.execute_reply": "2023-03-20T13:24:38.275832Z",
     "shell.execute_reply.started": "2023-03-20T13:24:38.268431Z"
    }
   },
   "outputs": [
    {
     "name": "stdout",
     "output_type": "stream",
     "text": [
      "user: 4          item: 3          r_ui = None   est = 4.07   {'actual_k': 40, 'was_impossible': False}\n"
     ]
    },
    {
     "data": {
      "text/plain": [
       "Prediction(uid=4, iid=3, r_ui=None, est=4.071601862880049, details={'actual_k': 40, 'was_impossible': False})"
      ]
     },
     "execution_count": 96,
     "metadata": {},
     "output_type": "execute_result"
    }
   ],
   "source": [
    "algoknn_item.predict(4,3,verbose=True)"
   ]
  },
  {
   "cell_type": "markdown",
   "metadata": {},
   "source": [
    "Predicted score is 4.07 while true value is unknown"
   ]
  },
  {
   "cell_type": "code",
   "execution_count": 103,
   "metadata": {
    "execution": {
     "iopub.execute_input": "2023-03-20T13:34:38.737822Z",
     "iopub.status.busy": "2023-03-20T13:34:38.736535Z",
     "iopub.status.idle": "2023-03-20T13:36:12.730155Z",
     "shell.execute_reply": "2023-03-20T13:36:12.727979Z",
     "shell.execute_reply.started": "2023-03-20T13:34:38.737771Z"
    }
   },
   "outputs": [
    {
     "name": "stdout",
     "output_type": "stream",
     "text": [
      "0.9431180667112754\n",
      "{'k': 30, 'min_k': 3, 'sim_options': {'name': 'msd', 'user_based': False}}\n"
     ]
    }
   ],
   "source": [
    "param_grid = {'k': [20, 30], 'min_k': [3],'sim_options': {'name': ['msd', 'cosine',],'user_based': [False]}}\n",
    "grid_obj = GridSearchCV(KNNBasic, param_grid, measures=['rmse', 'mae'], cv=3, n_jobs=-1)\n",
    "grid_obj.fit(data)\n",
    "print(grid_obj.best_score['rmse'])\n",
    "print(grid_obj.best_params['rmse'])"
   ]
  },
  {
   "cell_type": "code",
   "execution_count": 134,
   "metadata": {
    "execution": {
     "iopub.execute_input": "2023-03-20T14:12:27.809071Z",
     "iopub.status.busy": "2023-03-20T14:12:27.807854Z",
     "iopub.status.idle": "2023-03-20T14:12:29.563164Z",
     "shell.execute_reply": "2023-03-20T14:12:29.561844Z",
     "shell.execute_reply.started": "2023-03-20T14:12:27.809025Z"
    }
   },
   "outputs": [
    {
     "name": "stdout",
     "output_type": "stream",
     "text": [
      "RMSE: 0.9594\n"
     ]
    },
    {
     "data": {
      "text/plain": [
       "0.9594349028947148"
      ]
     },
     "execution_count": 134,
     "metadata": {},
     "output_type": "execute_result"
    }
   ],
   "source": [
    "similar = {'name': 'msd','user_based': True}\n",
    "similarity_based_item = KNNBasic(sim_options=sim_options, k=30, min_k=3,verbose=False)\n",
    "similarity_based_item.fit(trainset)\n",
    "predict = similarity_based_item.test(testset)\n",
    "accuracy.rmse(predict)"
   ]
  },
  {
   "cell_type": "markdown",
   "metadata": {},
   "source": [
    "**predict rating for an user with userId=4 and for movieId=10**"
   ]
  },
  {
   "cell_type": "code",
   "execution_count": 143,
   "metadata": {
    "execution": {
     "iopub.execute_input": "2023-03-20T14:57:28.905583Z",
     "iopub.status.busy": "2023-03-20T14:57:28.905140Z",
     "iopub.status.idle": "2023-03-20T14:57:28.915030Z",
     "shell.execute_reply": "2023-03-20T14:57:28.913751Z",
     "shell.execute_reply.started": "2023-03-20T14:57:28.905547Z"
    }
   },
   "outputs": [
    {
     "name": "stdout",
     "output_type": "stream",
     "text": [
      "user: 4          item: 10         r_ui = 4.00   est = 3.76   {'actual_k': 30, 'was_impossible': False}\n"
     ]
    },
    {
     "data": {
      "text/plain": [
       "Prediction(uid=4, iid=10, r_ui=4, est=3.764480564107267, details={'actual_k': 30, 'was_impossible': False})"
      ]
     },
     "execution_count": 143,
     "metadata": {},
     "output_type": "execute_result"
    }
   ],
   "source": [
    "similarity_based_item.predict(4,10,r_ui=4,verbose=True)"
   ]
  },
  {
   "cell_type": "markdown",
   "metadata": {},
   "source": [
    "Predicted score is 3.76 while true value is 4"
   ]
  },
  {
   "cell_type": "markdown",
   "metadata": {},
   "source": [
    "**predict rating for an user with userId=4 and for movieId=2**"
   ]
  },
  {
   "cell_type": "code",
   "execution_count": 136,
   "metadata": {
    "execution": {
     "iopub.execute_input": "2023-03-20T14:12:47.617744Z",
     "iopub.status.busy": "2023-03-20T14:12:47.616863Z",
     "iopub.status.idle": "2023-03-20T14:12:47.626172Z",
     "shell.execute_reply": "2023-03-20T14:12:47.624966Z",
     "shell.execute_reply.started": "2023-03-20T14:12:47.617697Z"
    }
   },
   "outputs": [
    {
     "name": "stdout",
     "output_type": "stream",
     "text": [
      "user: 4          item: 3          r_ui = None   est = 3.45   {'actual_k': 30, 'was_impossible': False}\n"
     ]
    },
    {
     "data": {
      "text/plain": [
       "Prediction(uid=4, iid=3, r_ui=None, est=3.4483196919285954, details={'actual_k': 30, 'was_impossible': False})"
      ]
     },
     "execution_count": 136,
     "metadata": {},
     "output_type": "execute_result"
    }
   ],
   "source": [
    "similarity_based_item.predict(4,3,verbose=True)"
   ]
  },
  {
   "cell_type": "markdown",
   "metadata": {},
   "source": [
    "Predicted score is 3.45 while true value is unknown"
   ]
  },
  {
   "cell_type": "markdown",
   "metadata": {},
   "source": [
    "# Similarity Based Recommendation System"
   ]
  },
  {
   "cell_type": "code",
   "execution_count": 111,
   "metadata": {
    "execution": {
     "iopub.execute_input": "2023-03-20T13:41:02.335599Z",
     "iopub.status.busy": "2023-03-20T13:41:02.335150Z",
     "iopub.status.idle": "2023-03-20T13:41:02.343641Z",
     "shell.execute_reply": "2023-03-20T13:41:02.342161Z",
     "shell.execute_reply.started": "2023-03-20T13:41:02.335550Z"
    }
   },
   "outputs": [
    {
     "name": "stdout",
     "output_type": "stream",
     "text": [
      "Computing the msd similarity matrix...\n",
      "Done computing similarity matrix.\n",
      "Computing the cosine similarity matrix...\n",
      "Done computing similarity matrix.\n",
      "Computing the cosine similarity matrix...\n",
      "Done computing similarity matrix.\n",
      "Computing the cosine similarity matrix...\n",
      "Done computing similarity matrix.\n",
      "Computing the msd similarity matrix...\n",
      "Done computing similarity matrix.\n",
      "Computing the cosine similarity matrix...\n",
      "Done computing similarity matrix.\n",
      "Computing the msd similarity matrix...\n",
      "Done computing similarity matrix.\n",
      "Computing the cosine similarity matrix...\n",
      "Done computing similarity matrix.\n",
      "Computing the cosine similarity matrix...\n",
      "Done computing similarity matrix.\n"
     ]
    }
   ],
   "source": [
    "def get_recommendations(data, user_id, topn, alg):\n",
    "    recommend = []\n",
    "    user_item_interactions_matrix = data.pivot(index='userId', columns='movieId', values='rating')\n",
    "    non_interacted_movies = user_item_interactions_matrix.loc[user_id][user_item_interactions_matrix.loc[user_id].isnull()].index.tolist()\n",
    "    for item_id in non_interacted_movies:\n",
    "        est = alg.predict(user_id, item_id).est\n",
    "        recommend.append((item_id, est))\n",
    "    recommend.sort(key=lambda x: x[1], reverse=True)\n",
    "    return recommend[:topn]"
   ]
  },
  {
   "cell_type": "code",
   "execution_count": 137,
   "metadata": {
    "execution": {
     "iopub.execute_input": "2023-03-20T14:12:57.191017Z",
     "iopub.status.busy": "2023-03-20T14:12:57.190575Z",
     "iopub.status.idle": "2023-03-20T14:12:57.462936Z",
     "shell.execute_reply": "2023-03-20T14:12:57.461627Z",
     "shell.execute_reply.started": "2023-03-20T14:12:57.190968Z"
    }
   },
   "outputs": [
    {
     "data": {
      "text/plain": [
       "[(309, 5),\n",
       " (3038, 5),\n",
       " (6273, 4.928202652354184),\n",
       " (98491, 4.863224466679252),\n",
       " (2721, 4.845513973527148)]"
      ]
     },
     "execution_count": 137,
     "metadata": {},
     "output_type": "execute_result"
    }
   ],
   "source": [
    "recommend = get_recommendations(rating, 4, 5, similarity_based_item)\n",
    "recommend"
   ]
  },
  {
   "cell_type": "markdown",
   "metadata": {},
   "source": [
    "#  matrix factorization recommendation system"
   ]
  },
  {
   "cell_type": "code",
   "execution_count": 117,
   "metadata": {
    "execution": {
     "iopub.execute_input": "2023-03-20T13:44:06.159759Z",
     "iopub.status.busy": "2023-03-20T13:44:06.158615Z",
     "iopub.status.idle": "2023-03-20T13:44:11.936513Z",
     "shell.execute_reply": "2023-03-20T13:44:11.935125Z",
     "shell.execute_reply.started": "2023-03-20T13:44:06.159710Z"
    }
   },
   "outputs": [
    {
     "name": "stdout",
     "output_type": "stream",
     "text": [
      "RMSE: 0.9034\n"
     ]
    },
    {
     "data": {
      "text/plain": [
       "0.9033975796495052"
      ]
     },
     "execution_count": 117,
     "metadata": {},
     "output_type": "execute_result"
    }
   ],
   "source": [
    "alg_svd = SVD()\n",
    "alg_svd.fit(trainset)\n",
    "predict = alg_svd.test(testset)\n",
    "accuracy.rmse(predict)"
   ]
  },
  {
   "cell_type": "markdown",
   "metadata": {},
   "source": [
    "**predict rating for an user with userId=4 and for movieId=10**"
   ]
  },
  {
   "cell_type": "code",
   "execution_count": 119,
   "metadata": {
    "execution": {
     "iopub.execute_input": "2023-03-20T13:45:24.236227Z",
     "iopub.status.busy": "2023-03-20T13:45:24.235803Z",
     "iopub.status.idle": "2023-03-20T13:45:24.244834Z",
     "shell.execute_reply": "2023-03-20T13:45:24.243520Z",
     "shell.execute_reply.started": "2023-03-20T13:45:24.236188Z"
    }
   },
   "outputs": [
    {
     "name": "stdout",
     "output_type": "stream",
     "text": [
      "user: 4          item: 10         r_ui = None   est = 4.13   {'was_impossible': False}\n"
     ]
    },
    {
     "data": {
      "text/plain": [
       "Prediction(uid=4, iid=10, r_ui=None, est=4.125617043675502, details={'was_impossible': False})"
      ]
     },
     "execution_count": 119,
     "metadata": {},
     "output_type": "execute_result"
    }
   ],
   "source": [
    "alg_svd.predict(4,10,verbose=True)"
   ]
  },
  {
   "cell_type": "markdown",
   "metadata": {},
   "source": [
    "**predict rating for an user with userId=4 and for movieId=3**"
   ]
  },
  {
   "cell_type": "code",
   "execution_count": 120,
   "metadata": {
    "execution": {
     "iopub.execute_input": "2023-03-20T13:45:41.389335Z",
     "iopub.status.busy": "2023-03-20T13:45:41.388924Z",
     "iopub.status.idle": "2023-03-20T13:45:41.398314Z",
     "shell.execute_reply": "2023-03-20T13:45:41.396920Z",
     "shell.execute_reply.started": "2023-03-20T13:45:41.389299Z"
    }
   },
   "outputs": [
    {
     "name": "stdout",
     "output_type": "stream",
     "text": [
      "user: 4          item: 3          r_ui = None   est = 3.71   {'was_impossible': False}\n"
     ]
    },
    {
     "data": {
      "text/plain": [
       "Prediction(uid=4, iid=3, r_ui=None, est=3.7149952020107544, details={'was_impossible': False})"
      ]
     },
     "execution_count": 120,
     "metadata": {},
     "output_type": "execute_result"
    }
   ],
   "source": [
    "alg_svd.predict(4,3,verbose=True)"
   ]
  },
  {
   "cell_type": "code",
   "execution_count": 122,
   "metadata": {
    "execution": {
     "iopub.execute_input": "2023-03-20T13:50:05.308121Z",
     "iopub.status.busy": "2023-03-20T13:50:05.307708Z",
     "iopub.status.idle": "2023-03-20T13:52:44.102144Z",
     "shell.execute_reply": "2023-03-20T13:52:44.101058Z",
     "shell.execute_reply.started": "2023-03-20T13:50:05.308086Z"
    }
   },
   "outputs": [
    {
     "name": "stdout",
     "output_type": "stream",
     "text": [
      "0.9784421366128724\n",
      "{'n_epochs': 10, 'lr_all': 0.001, 'reg_all': 0.2}\n"
     ]
    }
   ],
   "source": [
    "param_grid = {'n_epochs': [10, 20, 30], 'lr_all': [0.001, 0.005, 0.01],'reg_all': [0.2, 0.4, 0.6]}\n",
    "grid = GridSearchCV(KNNBasic, param_grid, measures=['rmse', 'mae'], cv=3, n_jobs=-1)\n",
    "grid.fit(data)\n",
    "print(grid.best_score['rmse'])\n",
    "print(grid.best_params['rmse'])"
   ]
  },
  {
   "cell_type": "code",
   "execution_count": 123,
   "metadata": {
    "execution": {
     "iopub.execute_input": "2023-03-20T13:54:17.392084Z",
     "iopub.status.busy": "2023-03-20T13:54:17.390749Z",
     "iopub.status.idle": "2023-03-20T13:54:26.182228Z",
     "shell.execute_reply": "2023-03-20T13:54:26.180727Z",
     "shell.execute_reply.started": "2023-03-20T13:54:17.392039Z"
    }
   },
   "outputs": [
    {
     "name": "stdout",
     "output_type": "stream",
     "text": [
      "RMSE: 0.8954\n"
     ]
    },
    {
     "data": {
      "text/plain": [
       "0.8953611072927974"
      ]
     },
     "execution_count": 123,
     "metadata": {},
     "output_type": "execute_result"
    }
   ],
   "source": [
    "svd_based_user = SVD(n_epochs=30, lr_all=0.01, reg_all=0.2)\n",
    "svd_based_user.fit(trainset)\n",
    "predict = svd_based_user.test(testset)\n",
    "accuracy.rmse(predict)"
   ]
  },
  {
   "cell_type": "markdown",
   "metadata": {},
   "source": [
    "**predict rating for an user with userId=4 and for movieId=10**"
   ]
  },
  {
   "cell_type": "code",
   "execution_count": 144,
   "metadata": {
    "execution": {
     "iopub.execute_input": "2023-03-20T15:00:45.520433Z",
     "iopub.status.busy": "2023-03-20T15:00:45.519920Z",
     "iopub.status.idle": "2023-03-20T15:00:45.530058Z",
     "shell.execute_reply": "2023-03-20T15:00:45.528681Z",
     "shell.execute_reply.started": "2023-03-20T15:00:45.520377Z"
    }
   },
   "outputs": [
    {
     "name": "stdout",
     "output_type": "stream",
     "text": [
      "user: 4          item: 10         r_ui = 4.00   est = 4.03   {'was_impossible': False}\n"
     ]
    },
    {
     "data": {
      "text/plain": [
       "Prediction(uid=4, iid=10, r_ui=4, est=4.0303528502223696, details={'was_impossible': False})"
      ]
     },
     "execution_count": 144,
     "metadata": {},
     "output_type": "execute_result"
    }
   ],
   "source": [
    "svd_based_user.predict(4,10,r_ui=4,verbose=True)"
   ]
  },
  {
   "cell_type": "markdown",
   "metadata": {},
   "source": [
    "Predicted score is 3.99 while true value is 4"
   ]
  },
  {
   "cell_type": "markdown",
   "metadata": {},
   "source": [
    "**predict rating for an user with userId=4 and for movieId=3**"
   ]
  },
  {
   "cell_type": "code",
   "execution_count": 126,
   "metadata": {
    "execution": {
     "iopub.execute_input": "2023-03-20T13:57:54.709884Z",
     "iopub.status.busy": "2023-03-20T13:57:54.709416Z",
     "iopub.status.idle": "2023-03-20T13:57:54.718983Z",
     "shell.execute_reply": "2023-03-20T13:57:54.717749Z",
     "shell.execute_reply.started": "2023-03-20T13:57:54.709842Z"
    }
   },
   "outputs": [
    {
     "name": "stdout",
     "output_type": "stream",
     "text": [
      "user: 4          item: 3          r_ui = None   est = 3.65   {'was_impossible': False}\n"
     ]
    },
    {
     "data": {
      "text/plain": [
       "Prediction(uid=4, iid=3, r_ui=None, est=3.6455961704991635, details={'was_impossible': False})"
      ]
     },
     "execution_count": 126,
     "metadata": {},
     "output_type": "execute_result"
    }
   ],
   "source": [
    "svd_based_user.predict(4,3,verbose=True)"
   ]
  },
  {
   "cell_type": "markdown",
   "metadata": {},
   "source": [
    "Predicted score is 3.65 while true value is unknown"
   ]
  },
  {
   "cell_type": "code",
   "execution_count": 128,
   "metadata": {
    "execution": {
     "iopub.execute_input": "2023-03-20T13:58:30.238231Z",
     "iopub.status.busy": "2023-03-20T13:58:30.237782Z",
     "iopub.status.idle": "2023-03-20T13:58:30.432479Z",
     "shell.execute_reply": "2023-03-20T13:58:30.430896Z",
     "shell.execute_reply.started": "2023-03-20T13:58:30.238195Z"
    }
   },
   "outputs": [
    {
     "data": {
      "text/plain": [
       "[(1192, 4.9780498155425),\n",
       " (3310, 4.960468383340618),\n",
       " (1948, 4.9592514657351945),\n",
       " (926, 4.938061206570177),\n",
       " (116, 4.92520963143994)]"
      ]
     },
     "execution_count": 128,
     "metadata": {},
     "output_type": "execute_result"
    }
   ],
   "source": [
    "get_recommendations(rating, 4, 5, svd_based_user)"
   ]
  },
  {
   "cell_type": "markdown",
   "metadata": {},
   "source": [
    "#  Compute the precision and recall, for each of the 6 models, at k = 5 and 10"
   ]
  },
  {
   "cell_type": "code",
   "execution_count": 130,
   "metadata": {
    "execution": {
     "iopub.execute_input": "2023-03-20T14:04:51.697987Z",
     "iopub.status.busy": "2023-03-20T14:04:51.697550Z",
     "iopub.status.idle": "2023-03-20T14:04:51.708030Z",
     "shell.execute_reply": "2023-03-20T14:04:51.706967Z",
     "shell.execute_reply.started": "2023-03-20T14:04:51.697949Z"
    }
   },
   "outputs": [],
   "source": [
    "def precision_recall_at_k(predictions, k=10, threshold=3.5):\n",
    "    user_est_true = defaultdict(list)\n",
    "    for uid, _, true_r, est, _ in predictions:\n",
    "        user_est_true[uid].append((est, true_r))\n",
    "    precisions = dict()\n",
    "    recalls = dict()\n",
    "    for uid, user_ratings in user_est_true.items():\n",
    "        user_ratings.sort(key=lambda x: x[0], reverse=True)\n",
    "        n_rel = sum((true_r >= threshold) for (_, true_r) in user_ratings)\n",
    "        n_rec_k = sum((est >= threshold) for (est, _) in user_ratings[:k])\n",
    "        n_rel_and_rec_k = sum(((true_r >= threshold) and (est >= threshold))\n",
    "                              for (est, true_r) in user_ratings[:k])\n",
    "        precisions[uid] = n_rel_and_rec_k / n_rec_k if n_rec_k != 0 else 0\n",
    "        recalls[uid] = n_rel_and_rec_k / n_rel if n_rel != 0 else 0\n",
    "    return precisions, recalls"
   ]
  },
  {
   "cell_type": "code",
   "execution_count": 139,
   "metadata": {
    "execution": {
     "iopub.execute_input": "2023-03-20T14:13:25.445061Z",
     "iopub.status.busy": "2023-03-20T14:13:25.444641Z",
     "iopub.status.idle": "2023-03-20T14:21:21.758125Z",
     "shell.execute_reply": "2023-03-20T14:21:21.756930Z",
     "shell.execute_reply.started": "2023-03-20T14:13:25.445025Z"
    }
   },
   "outputs": [
    {
     "name": "stdout",
     "output_type": "stream",
     "text": [
      "> k=5, model=KNNBasic\n",
      "-----> Precision:  0.767\n",
      "-----> Recall:  0.412\n",
      "> k=5, model=KNNBasic\n",
      "-----> Precision:  0.774\n",
      "-----> Recall:  0.419\n",
      "> k=5, model=KNNBasic\n",
      "-----> Precision:  0.607\n",
      "-----> Recall:  0.323\n",
      "> k=5, model=KNNBasic\n",
      "-----> Precision:  0.777\n",
      "-----> Recall:  0.417\n",
      "> k=5, model=SVD\n",
      "-----> Precision:  0.75\n",
      "-----> Recall:  0.381\n",
      "> k=5, model=SVD\n",
      "-----> Precision:  0.748\n",
      "-----> Recall:  0.385\n",
      "> k=10, model=KNNBasic\n",
      "-----> Precision:  0.751\n",
      "-----> Recall:  0.549\n",
      "> k=10, model=KNNBasic\n",
      "-----> Precision:  0.751\n",
      "-----> Recall:  0.557\n",
      "> k=10, model=KNNBasic\n",
      "-----> Precision:  0.6\n",
      "-----> Recall:  0.48\n",
      "> k=10, model=KNNBasic\n",
      "-----> Precision:  0.755\n",
      "-----> Recall:  0.557\n",
      "> k=10, model=SVD\n",
      "-----> Precision:  0.732\n",
      "-----> Recall:  0.515\n",
      "> k=10, model=SVD\n",
      "-----> Precision:  0.731\n",
      "-----> Recall:  0.523\n"
     ]
    }
   ],
   "source": [
    "kfd = KFold(n_splits=5)\n",
    "K = [5,10]\n",
    "models = [alg_knnuser, similarity_based_user,algoknn_item,similarity_based_item, alg_svd, svd_based_user]\n",
    "for k in K:\n",
    "    for model in models:\n",
    "        print('> k={}, model={}'.format(k,model.__class__.__name__))\n",
    "        p = []\n",
    "        r = []\n",
    "        for trainset, testset in kfd.split(data):\n",
    "            model.fit(trainset)\n",
    "            predictions = model.test(testset, verbose=False)\n",
    "            precisions, recalls = precision_recall_at_k(predictions, k=k, threshold=3.5)\n",
    "            p.append(sum(prec for prec in precisions.values()) / len(precisions))\n",
    "            r.append(sum(rec for rec in recalls.values()) / len(recalls))\n",
    "        print('-----> Precision: ', round(sum(p) / len(p), 3))\n",
    "        print('-----> Recall: ', round(sum(r) / len(r), 3))"
   ]
  },
  {
   "cell_type": "markdown",
   "metadata": {},
   "source": [
    "# results and provide insights"
   ]
  },
  {
   "cell_type": "markdown",
   "metadata": {},
   "source": [
    "1. baseline user-user and item-item-based models have good precsion value but the recall is quite low especially during k=5\n",
    "   the precsion are below 0.5.\n",
    "1. After tuning user-user model has not changed much but the item-item model precision and recall value has improved\n",
    "1. By verifying RMSE values we can tell that after tuning user-user and item-item-based models have both improved\n",
    "1. The matrix factorization model is different from the collaborative filtering models. Briefly describe this difference.Collaborative filtering (CF) and matrix factorization (MF) are two popular techniques used in recommendation systems. The main difference between them is the way they approach the recommendation task.Collaborative filtering methods analyze user behavior, such as their interactions with items (e.g., ratings, purchases, clicks), and use this information to identify patterns and similarities among users and items. CF-based recommenders then suggest items to users based on the preferences of similar users.In contrast, matrix factorization techniques use matrix decomposition to identify latent factors that explain user-item interactions. The factorization process involves breaking down a large matrix of user-item interactions into smaller matrices that capture underlying patterns and relationships between users and items. These smaller matrices are then used to generate recommendations.In summary, while both collaborative filtering and matrix factorization are used for recommendation systems, collaborative filtering uses user behavior to identify similar users and recommend items, while matrix factorization uses matrix decomposition to identify latent factors and generate recommendations based on these factors.\n",
    "1. No,there is no improvement between RMSE and precision-recall,It is possible for a model to improve in both metrics, but this is not always the case. Improvements in one metric may come at the cost of another metric. For example, increasing the number of features in a model may improve its RMSE but decrease its precision and recall.\n",
    "\n",
    "1. In general, the improvement in either metric depends on the nature of the data and the specific modeling techniques used. It is important to choose the appropriate evaluation metric based on the problem at hand and interpret the results in the context of the specific application."
   ]
  }
 ],
 "metadata": {
  "kernelspec": {
   "display_name": "Python 3 (ipykernel)",
   "language": "python",
   "name": "python3"
  },
  "language_info": {
   "codemirror_mode": {
    "name": "ipython",
    "version": 3
   },
   "file_extension": ".py",
   "mimetype": "text/x-python",
   "name": "python",
   "nbconvert_exporter": "python",
   "pygments_lexer": "ipython3",
   "version": "3.9.13"
  }
 },
 "nbformat": 4,
 "nbformat_minor": 4
}
